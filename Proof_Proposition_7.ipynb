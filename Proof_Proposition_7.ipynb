{
 "cells": [
  {
   "cell_type": "code",
   "execution_count": null,
   "metadata": {},
   "outputs": [],
   "source": [
    "def get_D(k, p, q, r):\n",
    "    # Expressions for D_{n, k}(a) from Table 2 in case k = 2 or k = 3\n",
    "    if k == 2:\n",
    "        D = 2 * (p - q) ** 2 - 3 * (p + q) + r\n",
    "    if k == 3:\n",
    "        D = 2 / 3 * (p - q) * (2 * (p - q) ** 2 - 9 * (p + q) + 3 * r + 7)\n",
    "    return D.expand().factor()\n",
    "\n",
    "\n",
    "def get_pqr(n, s, case):\n",
    "    # Expressions for p, q, r as described in Proposition 7\n",
    "    if case == 1:\n",
    "        l = s * (s - 1)\n",
    "        m = n / 16\n",
    "        p = m + l(s=s)\n",
    "        q = m + l(s=s + 1)\n",
    "    if case == 2:\n",
    "        l = (6 * s**2 + 6 * s + (-1) ** s * (2 * s + 1) - 1) / 8\n",
    "        m = (n - 2) / 16\n",
    "        p = m + l(s=s)\n",
    "        q = m + l(s=s + 2)\n",
    "    if case == 3:\n",
    "        l = s**2\n",
    "        m = (n - 4) / 16\n",
    "        p = m + l(s=s)\n",
    "        q = m + l(s=s + 1)\n",
    "    if case == 4:\n",
    "        l = (6 * s**2 + 6 * s - (-1) ** s * (2 * s + 1) + 1) / 8\n",
    "        m = (n - 6) / 16\n",
    "        p = m + l(s=s)\n",
    "        q = m + l(s=s + 2)\n",
    "    r = n / 2 - p - q\n",
    "    return p, q, r"
   ]
  },
  {
   "cell_type": "code",
   "execution_count": null,
   "metadata": {},
   "outputs": [
    {
     "name": "stdout",
     "output_type": "stream",
     "text": [
      "0\n",
      "-1/6*((-1)^s + 6*s + 9)*((-1)^s + 1)*((-1)^s - 1)\n",
      "0\n",
      "1/6*((-1)^s - 6*s - 9)*((-1)^s + 1)*((-1)^s - 1)\n"
     ]
    }
   ],
   "source": [
    "# Algebraic proof of Proposition 7\n",
    "\n",
    "(n, s) = var(\"n,s\")\n",
    "\n",
    "for case in range(1, 4 + 1):\n",
    "    p, q, r = get_pqr(n, s, case)\n",
    "    D = get_D(3 - (case % 2), p, q, r)\n",
    "    print(D)\n",
    "\n",
    "# Note that ((-1)**s + 1) * ((-1)**s - 1) is zero, for all integers s"
   ]
  }
 ],
 "metadata": {
  "kernelspec": {
   "display_name": "SageMath 10.0",
   "language": "sage",
   "name": "SageMath-10.0"
  },
  "language_info": {
   "codemirror_mode": {
    "name": "ipython",
    "version": 3
   },
   "file_extension": ".py",
   "mimetype": "text/x-python",
   "name": "python",
   "nbconvert_exporter": "python",
   "pygments_lexer": "ipython3",
   "version": "3.11.1"
  }
 },
 "nbformat": 4,
 "nbformat_minor": 4
}
