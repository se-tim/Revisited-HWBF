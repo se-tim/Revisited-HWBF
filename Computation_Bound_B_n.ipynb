{
 "cells": [
  {
   "cell_type": "code",
   "execution_count": null,
   "metadata": {
    "vscode": {
     "languageId": "python"
    }
   },
   "outputs": [],
   "source": [
    "def get_B(n):\n",
    "    # Bound B_n on |W_f(a)| as explained in Section 5.1\n",
    "    n_half = n // 2\n",
    "\n",
    "    z = var(\"z\")\n",
    "    P = -(z**2) + 2 * z + 1\n",
    "    Q = -(z**2) - 2 * z + 1\n",
    "    R = z**2 + 1\n",
    "\n",
    "    powers_P = [1]\n",
    "    powers_Q = [1]\n",
    "    powers_R = [1]\n",
    "\n",
    "    for m in range(1, n_half + 1):\n",
    "        powers_P.append((powers_P[m - 1] * P).expand())\n",
    "        powers_Q.append((powers_Q[m - 1] * Q).expand())\n",
    "        powers_R.append((powers_R[m - 1] * R).expand())\n",
    "\n",
    "    D = {}  # For the values D_{k, n}^{p, q, r}\n",
    "    for p in range(n_half + 1):\n",
    "        for q in range(n_half - p + 1):\n",
    "            r = n_half - p - q\n",
    "            D[p, q] = (powers_P[p] * powers_Q[q] * powers_R[r]).list()\n",
    "\n",
    "    upper_bounds = []  # For upper bounds on W_f(a)\n",
    "    lower_bounds = []  # For lower bounds on W_f(a)\n",
    "    for p in range(n_half + 1):\n",
    "        for q in range(n_half - p + 1):\n",
    "            tuples = []\n",
    "            # For possible tuples (p + alpha, q + beta, p + alpha', q + beta')\n",
    "            if p > 0:\n",
    "                tuples.append((p - 1, q, p - 1, q))\n",
    "            if q > 0:\n",
    "                tuples.append((p, q - 1, p, q - 1))\n",
    "            if p + q < n_half:\n",
    "                tuples.append((p + 1, q, p, q + 1))\n",
    "                tuples.append((p, q + 1, p + 1, q))\n",
    "            upper_bound = 1\n",
    "            lower_bound = 1\n",
    "            for k in range(1, n_half + 1):\n",
    "                list_sum_D = [\n",
    "                    D[p_1, q_1][k] + D[p_2, q_2][k + n_half]\n",
    "                    for (p_1, q_1, p_2, q_2) in tuples\n",
    "                ]\n",
    "                upper_bound += max(list_sum_D)\n",
    "                lower_bound += min(list_sum_D)\n",
    "            upper_bounds.append(upper_bound)\n",
    "            lower_bounds.append(lower_bound)\n",
    "\n",
    "    U = max(upper_bounds)\n",
    "    L = min(lower_bounds)\n",
    "    return max(U, -L)"
   ]
  },
  {
   "cell_type": "code",
   "execution_count": 21,
   "metadata": {
    "vscode": {
     "languageId": "python"
    }
   },
   "outputs": [
    {
     "name": "stdout",
     "output_type": "stream",
     "text": [
      "1\n",
      "2\n",
      "8\n",
      "28\n",
      "76\n",
      "212\n",
      "596\n",
      "1828\n",
      "5196\n",
      "14668\n",
      "41468\n",
      "118544\n",
      "325188\n",
      "958860\n",
      "2678392\n",
      "7648144\n",
      "21378952\n",
      "62490348\n",
      "175598840\n",
      "503120592\n",
      "1399656412\n",
      "4013536280\n",
      "11232446640\n",
      "32055257592\n",
      "89060619220\n",
      "255592925524\n",
      "712387756136\n",
      "2048736941080\n",
      "5729223976376\n",
      "16496702144008\n",
      "45882124604868\n",
      "131534068064452\n",
      "365825435400944\n",
      "1048991712418860\n",
      "2925593446193464\n",
      "8396680545686048\n",
      "23347725289544816\n",
      "67125521452710660\n",
      "187179037217647040\n",
      "539456813106616636\n"
     ]
    }
   ],
   "source": [
    "for i in range(40):\n",
    "    print(get_B(2 * i))"
   ]
  }
 ],
 "metadata": {
  "kernelspec": {
   "display_name": "SageMath 10.0",
   "language": "sage",
   "name": "SageMath-10.0"
  },
  "language_info": {
   "codemirror_mode": {
    "name": "ipython",
    "version": 3
   },
   "file_extension": ".py",
   "mimetype": "text/x-python",
   "name": "sage",
   "nbconvert_exporter": "python",
   "pygments_lexer": "ipython3",
   "version": "3.11.1"
  }
 },
 "nbformat": 4,
 "nbformat_minor": 4
}
